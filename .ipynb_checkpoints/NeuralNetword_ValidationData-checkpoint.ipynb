{
 "cells": [
  {
   "cell_type": "code",
   "execution_count": 1,
   "metadata": {
    "id": "hYXFXXesL3UY"
   },
   "outputs": [
    {
     "ename": "ModuleNotFoundError",
     "evalue": "No module named 'tensorflow'",
     "output_type": "error",
     "traceback": [
      "\u001b[1;31m---------------------------------------------------------------------------\u001b[0m",
      "\u001b[1;31mModuleNotFoundError\u001b[0m                       Traceback (most recent call last)",
      "Input \u001b[1;32mIn [1]\u001b[0m, in \u001b[0;36m<cell line: 4>\u001b[1;34m()\u001b[0m\n\u001b[0;32m      2\u001b[0m \u001b[38;5;28;01mimport\u001b[39;00m \u001b[38;5;21;01mpandas\u001b[39;00m \u001b[38;5;28;01mas\u001b[39;00m \u001b[38;5;21;01mpd\u001b[39;00m\n\u001b[0;32m      3\u001b[0m \u001b[38;5;28;01mimport\u001b[39;00m \u001b[38;5;21;01mmath\u001b[39;00m\n\u001b[1;32m----> 4\u001b[0m \u001b[38;5;28;01mimport\u001b[39;00m \u001b[38;5;21;01mtensorflow\u001b[39;00m \u001b[38;5;28;01mas\u001b[39;00m \u001b[38;5;21;01mtf\u001b[39;00m\n\u001b[0;32m      5\u001b[0m \u001b[38;5;28;01mfrom\u001b[39;00m \u001b[38;5;21;01mtensorflow\u001b[39;00m \u001b[38;5;28;01mimport\u001b[39;00m keras\n\u001b[0;32m      6\u001b[0m \u001b[38;5;28;01mfrom\u001b[39;00m \u001b[38;5;21;01msklearn\u001b[39;00m\u001b[38;5;21;01m.\u001b[39;00m\u001b[38;5;21;01mmodel_selection\u001b[39;00m \u001b[38;5;28;01mimport\u001b[39;00m train_test_split\n",
      "\u001b[1;31mModuleNotFoundError\u001b[0m: No module named 'tensorflow'"
     ]
    }
   ],
   "source": [
    "import numpy as np\n",
    "import pandas as pd\n",
    "import math\n",
    "import tensorflow as tf\n",
    "from tensorflow import keras\n",
    "from sklearn.model_selection import train_test_split\n",
    "from sklearn import linear_model"
   ]
  },
  {
   "cell_type": "code",
   "execution_count": 2,
   "metadata": {},
   "outputs": [
    {
     "name": "stdout",
     "output_type": "stream",
     "text": [
      "^C\n"
     ]
    }
   ],
   "source": [
    "!pip install tensorflow"
   ]
  },
  {
   "cell_type": "markdown",
   "metadata": {
    "id": "q7zVt-oTVCQY"
   },
   "source": [
    "# Initial Data\n"
   ]
  },
  {
   "cell_type": "markdown",
   "metadata": {
    "id": "D1SXiX5bynVC"
   },
   "source": [
    "*   x1: Total Population *(in 1000s)*\n",
    "*   x2: Population Density *(inhabitants/square km)*\n",
    "*   x3: GDP per capita *(USD/inhabitant)*\n",
    "*   x4: Long term average annual precipitation in depth *(mm/year)*\n",
    "*   x5: Total renewable resources per capita *($m^{3}$/inhabitant /year)*\n",
    "*   x6: Total water withdrawal per capita *($m^{3}$/inhabitant /year)*\n",
    "*   x7: Agricultural water withdrawal *(%age of x6)*\n",
    "*   x8: Industrial water withdrawal *(%age of x6)*\n",
    "*   x9: Municipal water withdrawal *(%age of x6)*\n",
    "*   x10: Collected Municipal wastewater  *($km^{3}$/year)*\n",
    "*   x11: Capacity of the municipal wastewater treatment facilities *($km^{3}$/year)*\n",
    "*   x12: Not treated municipal wastewater *($km^{3}$/year)*\n",
    "*   y: Water Stress *(%age)*"
   ]
  },
  {
   "cell_type": "code",
   "execution_count": null,
   "metadata": {
    "colab": {
     "base_uri": "https://localhost:8080/",
     "height": 424
    },
    "id": "yCntS4IKMDYN",
    "outputId": "e553389b-6b0c-4f0b-9da3-83ed1e9e7690"
   },
   "outputs": [],
   "source": [
    "#Read and prepare the data\n",
    "data = pd.read_csv('https://www.dropbox.com/s/j07u99pg44kbfvm/final_data.csv?dl=1')\n",
    "data"
   ]
  },
  {
   "cell_type": "code",
   "execution_count": null,
   "metadata": {
    "colab": {
     "base_uri": "https://localhost:8080/",
     "height": 658
    },
    "id": "jSZF2hsFi4jT",
    "outputId": "90738331-47e8-4bbc-b4d2-82c37c4ec154"
   },
   "outputs": [],
   "source": [
    "#data_x1_x5.pivot(columns='Variable Name', index='Area')['Value']\n",
    "data = data.groupby(['Year','Variable Name', 'Area'])['Value'].aggregate('mean').unstack(1)\n",
    "data"
   ]
  },
  {
   "cell_type": "code",
   "execution_count": null,
   "metadata": {
    "colab": {
     "base_uri": "https://localhost:8080/"
    },
    "id": "KaHYPG0CzrEI",
    "outputId": "b3d9fe67-f37a-4393-c95b-80390d1a26a3"
   },
   "outputs": [],
   "source": [
    "data.isna().sum()"
   ]
  },
  {
   "cell_type": "markdown",
   "metadata": {
    "id": "XRr3cpgRBpz0"
   },
   "source": [
    "## Exploratory Data Analysis"
   ]
  },
  {
   "cell_type": "markdown",
   "metadata": {
    "id": "jAh8SSr4Bh7c"
   },
   "source": [
    "\n",
    "\n",
    "*   Three variables, Capacity of the municipal wastewater treatment facilities (x11), Collected municipal wastewater (x10) and Not treated municipal wastewater (x12) are missing around 75% to 80% of the values. Therefore it can be assumed that they do not impact the water stress (y) values and can be droped from the dataset.\n",
    "*   All the rows with NaN values can be dropped.\n",
    "*   Variables x6, x7 and x8 sum up to 100 as they are percentages of x6. Therefore we need only two of these three variables and one of them should be dropped to avoid redundancy.\n",
    "*   Total population and Population density are related variables. So one of them can be dropped. Total population being a more absolute variable can be dropped.\n",
    "\n",
    "\n",
    "\n"
   ]
  },
  {
   "cell_type": "markdown",
   "metadata": {
    "id": "hOwmW_1RzYID"
   },
   "source": [
    "# Cleaning the dataset"
   ]
  },
  {
   "cell_type": "code",
   "execution_count": null,
   "metadata": {
    "colab": {
     "base_uri": "https://localhost:8080/"
    },
    "id": "z-3hxt20RDAi",
    "outputId": "72778811-5ff2-47e0-e480-87bb6de5585b"
   },
   "outputs": [],
   "source": [
    "#drop the rows that are missing \"y\" values i.e. missing SDG 6.4.2. Water Stress\n",
    "print(\"Dimensions of the original dataset: \", data.shape)\n",
    "data.dropna(subset=[\"Population density\",\"GDP per capita\",\"SDG 6.4.2. Water Stress\",\"Agricultural water withdrawal as % of total water withdrawal\",\"Municipal water withdrawal as % of total withdrawal\"], inplace=True)\n",
    "data.drop([\"Total population\",\"Capacity of the municipal wastewater treatment facilities\",\"Collected municipal wastewater\",\"Not treated municipal wastewater\",\"Industrial water withdrawal as % of total water withdrawal\"], axis=1, inplace=True)\n",
    "print(\"Dimensions of the new dataset: \", data.shape)"
   ]
  },
  {
   "cell_type": "code",
   "execution_count": null,
   "metadata": {
    "colab": {
     "base_uri": "https://localhost:8080/"
    },
    "id": "KvX4LBM_X7AO",
    "outputId": "33ce60c4-ac92-4b3b-f620-9ed33e30665c"
   },
   "outputs": [],
   "source": [
    "data.isna().sum()"
   ]
  },
  {
   "cell_type": "code",
   "execution_count": null,
   "metadata": {
    "id": "NRncT-37e34y"
   },
   "outputs": [],
   "source": [
    "data.reset_index(inplace=True)"
   ]
  },
  {
   "cell_type": "code",
   "execution_count": null,
   "metadata": {
    "colab": {
     "base_uri": "https://localhost:8080/",
     "height": 572
    },
    "id": "bB5Qk0fEflTq",
    "outputId": "3e96ce90-4969-47c6-e9f2-ae07e9a53d58"
   },
   "outputs": [],
   "source": [
    "data"
   ]
  },
  {
   "cell_type": "code",
   "execution_count": null,
   "metadata": {
    "colab": {
     "base_uri": "https://localhost:8080/",
     "height": 737
    },
    "id": "BAI0RrKPGsm-",
    "outputId": "6a4e4c08-f59a-4ec0-d534-4bd8c10833bd"
   },
   "outputs": [],
   "source": [
    "data.corr()"
   ]
  },
  {
   "cell_type": "markdown",
   "metadata": {
    "id": "prebrmfChiyR"
   },
   "source": [
    "There is no direct linear relation between any of the variables and the water stress values. We need to build a prediction model that analyze complex relations between variables such as Neural Networks."
   ]
  },
  {
   "cell_type": "markdown",
   "metadata": {
    "id": "-y44RPJ3yVDh"
   },
   "source": [
    "# Scaling the dataset"
   ]
  },
  {
   "cell_type": "code",
   "execution_count": null,
   "metadata": {
    "id": "_VKHuj2ByarF"
   },
   "outputs": [],
   "source": [
    "#Create X_data and Y_data\n",
    "X_data= data[[\"Agricultural water withdrawal as % of total water withdrawal\", \"GDP per capita\", \"Long-term average annual precipitation in volume\", \"Municipal water withdrawal as % of total withdrawal\", \"Total renewable water resources per capita\", \"Total water withdrawal per capita\", \"Population density\"]]\n",
    "Y_data= data[\"SDG 6.4.2. Water Stress\"]\n",
    "X_scale= X_data.apply(lambda x: (x-x.min(axis=0)) / (x.max(axis=0)-x.min(axis=0)))\n",
    "#Change the percentage to proportion\n",
    "Y_scale=Y_data.apply(lambda x: x/100)"
   ]
  },
  {
   "cell_type": "markdown",
   "metadata": {
    "id": "qQII1AJGZt47"
   },
   "source": [
    "# Neural Network Model"
   ]
  },
  {
   "cell_type": "markdown",
   "metadata": {
    "id": "wErvHcMwBYfv"
   },
   "source": [
    "## Splitting the dataset"
   ]
  },
  {
   "cell_type": "code",
   "execution_count": null,
   "metadata": {
    "colab": {
     "base_uri": "https://localhost:8080/"
    },
    "id": "xr-57CaHshFJ",
    "outputId": "fcbdc7aa-c97f-400b-b7aa-938e812cfcfd"
   },
   "outputs": [],
   "source": [
    "print(X_scale.shape,Y_scale.shape)"
   ]
  },
  {
   "cell_type": "code",
   "execution_count": null,
   "metadata": {
    "id": "Cygj8-hgZ7fo"
   },
   "outputs": [],
   "source": [
    "#convert dataframes to array\n",
    "X=pd.DataFrame(X_scale).to_numpy()\n",
    "Y=pd.DataFrame(Y_scale).to_numpy()"
   ]
  },
  {
   "cell_type": "code",
   "execution_count": null,
   "metadata": {
    "colab": {
     "base_uri": "https://localhost:8080/"
    },
    "id": "39BumEixzZ33",
    "outputId": "c97fc0e2-2f67-468f-b639-1e5ba9554edf"
   },
   "outputs": [],
   "source": [
    "X"
   ]
  },
  {
   "cell_type": "code",
   "execution_count": null,
   "metadata": {
    "colab": {
     "base_uri": "https://localhost:8080/"
    },
    "id": "VQ6y-LVNbQiG",
    "outputId": "6cc0c2ee-0cec-496d-d66a-2ddd361edbaf"
   },
   "outputs": [],
   "source": [
    "Y"
   ]
  },
  {
   "cell_type": "code",
   "execution_count": null,
   "metadata": {
    "colab": {
     "base_uri": "https://localhost:8080/"
    },
    "id": "4mHi9UM_BOht",
    "outputId": "6b81c34d-1e2c-47e8-c4d9-396e3207be1a"
   },
   "outputs": [],
   "source": [
    "#split the data for testing and training\n",
    "X_train, X_test, Y_train, Y_test = train_test_split(X,Y,test_size=0.2)\n",
    "print(X_train.shape, X_test.shape, Y_train.shape, Y_test.shape)"
   ]
  },
  {
   "cell_type": "markdown",
   "metadata": {
    "id": "lS5Y2gT7GhUo"
   },
   "source": [
    "## Building the Neural Network Model"
   ]
  },
  {
   "cell_type": "code",
   "execution_count": null,
   "metadata": {
    "id": "bdAhr4p0dllI"
   },
   "outputs": [],
   "source": [
    "#Create a neutral network model\n",
    "model=tf.keras.models.Sequential()\n",
    "model.add(tf.keras.layers.Flatten()),\n",
    "model.add(tf.keras.layers.Dense(35, activation=\"relu\")),\n",
    "model.add(tf.keras.layers.Dense(30, activation=\"sigmoid\")),\n",
    "model.add(tf.keras.layers.Dense(25, activation=\"sigmoid\")),\n",
    "model.add(tf.keras.layers.Dense(1, activation=\"linear\")),\n",
    "\n",
    "#compile the model\n",
    "model.compile(optimizer=\"adam\",loss=\"mean_squared_error\", metrics=\"accuracy\")"
   ]
  },
  {
   "cell_type": "code",
   "execution_count": null,
   "metadata": {
    "colab": {
     "base_uri": "https://localhost:8080/"
    },
    "id": "SI9duShFdvHb",
    "outputId": "496208ec-8857-4d4e-814c-d12c44dd2a1c"
   },
   "outputs": [],
   "source": [
    "#train the model\n",
    "model.fit(X_train, Y_train, epochs=450, batch_size=32)"
   ]
  },
  {
   "cell_type": "markdown",
   "metadata": {
    "id": "1I_U4wX_gRsH"
   },
   "source": [
    "## Predicting the test data"
   ]
  },
  {
   "cell_type": "code",
   "execution_count": null,
   "metadata": {
    "colab": {
     "base_uri": "https://localhost:8080/"
    },
    "id": "EfO1MqKCeLbH",
    "outputId": "53be6ae8-27c5-401c-cf5a-45221f57c17e"
   },
   "outputs": [],
   "source": [
    "Y_hat=model.predict(X_test)\n",
    "Y_hat"
   ]
  },
  {
   "cell_type": "code",
   "execution_count": null,
   "metadata": {
    "colab": {
     "base_uri": "https://localhost:8080/"
    },
    "id": "3WUz5SKXeWeA",
    "outputId": "f140f85c-c3fd-4497-9664-b8b20b159fef"
   },
   "outputs": [],
   "source": [
    "Y_test"
   ]
  },
  {
   "cell_type": "markdown",
   "metadata": {
    "id": "nST1AeApewHr"
   },
   "source": [
    "Problems to be addressed:\n",
    "*   Analyze the performance of the model.\n",
    "*   Prediction of coutries that will run out of water by 2050. (can be verified by checking if the Water stress will reach 100% or 1.0)\n",
    "*   No justification behind chossing the certain number of hidden layers and certain number of neurons.\n",
    "*   Further use this model to predict values of water stress in the app.\n",
    "\n",
    "\n",
    "\n",
    "\n",
    "\n",
    "\n",
    "\n",
    "\n",
    "\n"
   ]
  },
  {
   "cell_type": "markdown",
   "metadata": {
    "id": "aSXvfg1NmOfo"
   },
   "source": [
    "# Predict the x variables for future"
   ]
  },
  {
   "cell_type": "code",
   "execution_count": null,
   "metadata": {
    "colab": {
     "base_uri": "https://localhost:8080/",
     "height": 424
    },
    "id": "wRFpQN5kxZpG",
    "outputId": "d0bd5a70-b758-4d72-ca9c-ec3e56c2d53d"
   },
   "outputs": [],
   "source": [
    "#Read and prepare the data\n",
    "data_ori = pd.read_csv('https://www.dropbox.com/s/j07u99pg44kbfvm/final_data.csv?dl=1')\n",
    "data_ori"
   ]
  },
  {
   "cell_type": "code",
   "execution_count": null,
   "metadata": {
    "colab": {
     "base_uri": "https://localhost:8080/",
     "height": 606
    },
    "id": "fcLfzQEhPaPb",
    "outputId": "c6a5f754-afce-4369-96b5-a457291d0c3e"
   },
   "outputs": [],
   "source": [
    "data_ori = data_ori.groupby(['Year','Variable Name', 'Area'])['Value'].aggregate('mean').unstack(1)\n",
    "data_ori.reset_index(inplace=True)\n",
    "print(\"Dimensions of the original dataset: \", data_ori.shape)\n",
    "data_ori.dropna(subset=[\"Population density\",\"GDP per capita\",\"SDG 6.4.2. Water Stress\",\"Agricultural water withdrawal as % of total water withdrawal\",\"Municipal water withdrawal as % of total withdrawal\"], inplace=True)\n",
    "data_ori.drop([\"Total population\",\"Capacity of the municipal wastewater treatment facilities\",\"Collected municipal wastewater\",\"Not treated municipal wastewater\",\"Industrial water withdrawal as % of total water withdrawal\"], axis=1, inplace=True)\n",
    "print(\"Dimensions of the new dataset: \", data_ori.shape)\n",
    "data_ori\n"
   ]
  },
  {
   "cell_type": "code",
   "execution_count": null,
   "metadata": {
    "id": "Prv3Oih1bNtE"
   },
   "outputs": [],
   "source": [
    "def extrapolate(country,variable):\n",
    "  poly = np.polyfit(data_ori[data_ori['Area']==country]['Year'], data_ori[data_ori['Area']==country][variable], deg=1)\n",
    "  y_int  = np.polyval(poly, 2022)\n",
    "  return y_int"
   ]
  },
  {
   "cell_type": "code",
   "execution_count": null,
   "metadata": {
    "id": "jkZ2RzxRaUrU"
   },
   "outputs": [],
   "source": [
    "newdata = data_ori[data_ori['Area']=='country']"
   ]
  },
  {
   "cell_type": "code",
   "execution_count": null,
   "metadata": {
    "colab": {
     "base_uri": "https://localhost:8080/"
    },
    "id": "x-XrwYpwaPBX",
    "outputId": "585a43df-c28e-4b20-99dc-cc74f5fa6394"
   },
   "outputs": [],
   "source": [
    "ind=0\n",
    "for i in np.unique(np.array(data_ori['Area'])):\n",
    "  #print(ind)\n",
    "  #print(i)\n",
    "  newdata.loc[ind] = pd.Series({'Year':2022, 'Area':i,\n",
    "                                'Agricultural water withdrawal as % of total water withdrawal':extrapolate(i,'Agricultural water withdrawal as % of total water withdrawal'),\n",
    "                                'GDP per capita':extrapolate(i,'GDP per capita'), \n",
    "                                'Long-term average annual precipitation in volume':extrapolate(i,'Long-term average annual precipitation in volume'),\n",
    "                                'Municipal water withdrawal as % of total withdrawal':extrapolate(i,'Municipal water withdrawal as % of total withdrawal'),\n",
    "                                'Population density':extrapolate(i,'Population density'), \n",
    "                                'SDG 6.4.2. Water Stress':extrapolate(i,'SDG 6.4.2. Water Stress'),\n",
    "                                'Total renewable water resources per capita':extrapolate(i,'Total renewable water resources per capita'),\n",
    "                                'Total water withdrawal per capita':extrapolate(i,'Total water withdrawal per capita')})\n",
    "  #print(newdata.loc[ind])\n",
    "  ind=ind+1"
   ]
  },
  {
   "cell_type": "code",
   "execution_count": null,
   "metadata": {
    "colab": {
     "base_uri": "https://localhost:8080/",
     "height": 606
    },
    "id": "QV7uZu8chlSL",
    "outputId": "7cd5bcb4-834e-4163-a15c-68a96bf0a26b"
   },
   "outputs": [],
   "source": [
    "newdata"
   ]
  },
  {
   "cell_type": "code",
   "execution_count": null,
   "metadata": {
    "id": "fvC73Y79iL-2"
   },
   "outputs": [],
   "source": [
    "newdata.to_csv('validation_data.csv', encoding = 'utf-8-sig') "
   ]
  }
 ],
 "metadata": {
  "colab": {
   "collapsed_sections": [],
   "name": "NeuralNetword_ValidationData.ipynb",
   "provenance": []
  },
  "kernelspec": {
   "display_name": "Python 3 (ipykernel)",
   "language": "python",
   "name": "python3"
  },
  "language_info": {
   "codemirror_mode": {
    "name": "ipython",
    "version": 3
   },
   "file_extension": ".py",
   "mimetype": "text/x-python",
   "name": "python",
   "nbconvert_exporter": "python",
   "pygments_lexer": "ipython3",
   "version": "3.10.4"
  }
 },
 "nbformat": 4,
 "nbformat_minor": 1
}
